{
 "cells": [
  {
   "cell_type": "code",
   "execution_count": 1,
   "id": "bd03ca17",
   "metadata": {},
   "outputs": [],
   "source": [
    "import os\n",
    "import time\n",
    "import sys\n",
    "import pandas as pd\n",
    "from datetime import datetime\n",
    "from tqdm import tqdm\n",
    "from bs4 import BeautifulSoup\n",
    "from selenium import webdriver\n",
    "from selenium.webdriver.chrome.service import Service\n",
    "from selenium.webdriver.common.by import By\n",
    "from selenium.webdriver.support.ui import WebDriverWait\n",
    "from selenium.webdriver.support import expected_conditions as EC\n",
    "from webdriver_manager.chrome import ChromeDriverManager\n",
    "from selenium.webdriver.chrome.options import Options\n"
   ]
  },
  {
   "cell_type": "code",
   "execution_count": null,
   "id": "114b6e68",
   "metadata": {},
   "outputs": [
    {
     "name": "stdout",
     "output_type": "stream",
     "text": [
      "Chrome opened successfully.\n"
     ]
    }
   ],
   "source": [
    "# Chrome Setup\n",
    "options = Options()\n",
    "# options.add_argument(\"--headless\")  # Uncomment to run without GUI\n",
    "\n",
    "# Initialise the driver\n",
    "driver = webdriver.Chrome(\n",
    "    service=Service(ChromeDriverManager().install()),\n",
    "    options=options\n",
    ")\n",
    "\n",
    "# Chrome check\n",
    "driver.get(\"https://www.google.com\")\n",
    "print(\"Chrome opened successfully.\")"
   ]
  },
  {
   "cell_type": "code",
   "execution_count": null,
   "id": "91c3e09e",
   "metadata": {},
   "outputs": [],
   "source": [
    "# Cleaning\n",
    "def format_text(text):\n",
    "    return text.strip().replace('\\n', ' ').replace('\\t', ' ').replace('\\xa0', ' ')\n",
    "\n"
   ]
  },
  {
   "cell_type": "code",
   "execution_count": 4,
   "id": "62922b81",
   "metadata": {},
   "outputs": [],
   "source": [
    "def scrape_forum(forum_path, forum_slug, forum_name, start_page=1, end_page=664):\n",
    "    base_url = f\"https://forums.beyondblue.org.au/t5/{forum_path}/bd-p/{forum_slug}\"\n",
    "    print(f\"Starting scrape: {base_url}\")\n",
    "    all_data = []\n",
    "\n",
    "    for page in range(start_page, end_page + 1):\n",
    "        forum_page = f\"{base_url}/page/{page}\"\n",
    "        print(f\"Reading forum page: {forum_page}\")\n",
    "        try:\n",
    "            driver.get(forum_page)\n",
    "            time.sleep(2)\n",
    "            soup = BeautifulSoup(driver.page_source, 'html.parser')\n",
    "            thread_links = []\n",
    "\n",
    "            for a in soup.find_all(\"a\", href=True):\n",
    "                href = a.get(\"href\")\n",
    "                if \"/td-p/\" in href and \"/user/\" not in href:\n",
    "                    full_url = \"https://forums.beyondblue.org.au\" + href.split(\"?\")[0]\n",
    "                    if full_url not in thread_links:\n",
    "                        thread_links.append(full_url)\n",
    "\n",
    "            for thread_url in tqdm(thread_links, desc=f\"Threads in {forum_name}\"):\n",
    "                try:\n",
    "                    thread_base = thread_url.split(\"/page\")[0]\n",
    "\n",
    "                    # Load first page to check if page 2 exists\n",
    "                    driver.get(thread_base)\n",
    "                    WebDriverWait(driver, 10).until(\n",
    "                        EC.presence_of_element_located((By.CLASS_NAME, \"lia-message-body-content\"))\n",
    "                    )\n",
    "                    soup = BeautifulSoup(driver.page_source, 'html.parser')\n",
    "\n",
    "                    # Determine if second page exists\n",
    "                    pagination_links = soup.select(\".lia-paging-page-link\")\n",
    "                    has_page_2 = any(link.get_text(strip=True) == \"2\" for link in pagination_links)\n",
    "\n",
    "                    # Only include page 2 if it exists\n",
    "                    pages_to_scrape = [thread_base]\n",
    "                    if has_page_2:\n",
    "                        pages_to_scrape.append(thread_base + \"/page/2\")\n",
    "\n",
    "                    posts, authors, dates, times_ = [], [], [], []\n",
    "\n",
    "                    for page_url in pages_to_scrape:\n",
    "                        driver.get(page_url)\n",
    "                        time.sleep(2)\n",
    "                        soup = BeautifulSoup(driver.page_source, 'html.parser')\n",
    "                        posts.extend(soup.find_all(\"div\", class_=\"lia-message-body-content\"))\n",
    "                        authors.extend(soup.find_all(\"img\", class_=\"lia-user-avatar-message\"))\n",
    "                        dates.extend(soup.find_all(\"span\", class_=\"local-date\"))\n",
    "                        times_.extend(soup.find_all(\"span\", class_=\"local-time\"))\n",
    "\n",
    "                    if len(posts) <= 2:\n",
    "                        continue  # Skip threads with ≤2 total posts\n",
    "\n",
    "                    try:\n",
    "                        date_str = dates[0].text.strip().replace(\"\\u200e\", \"\") if dates else None\n",
    "                        time_str = times_[0].text.strip().replace(\"\\u200e\", \"\") if times_ else \"12:00 AM\"\n",
    "                        post_datetime_str = f\"{date_str} {time_str}\"\n",
    "                        post_datetime = datetime.strptime(post_datetime_str, \"%d-%m-%Y %I:%M %p\")\n",
    "\n",
    "                        if not (datetime(2015, 1, 1) <= post_datetime <= datetime(2025, 6, 30)):\n",
    "                            continue  # Skip outside date range\n",
    "                    except Exception as e:\n",
    "                        print(f\" Skipping due to date error: {thread_url}\\n{e}\")\n",
    "                        continue\n",
    "\n",
    "                    thread_id = thread_url.split(\"/\")[-1]\n",
    "                    thread_title_tag = soup.title.string.strip() if soup.title else \"Untitled\"\n",
    "                    thread_title = thread_title_tag.replace(\" - Beyond Blue\", \"\").strip()\n",
    "\n",
    "                    post_content = format_text(posts[0].text)\n",
    "                    post_author = authors[0].get(\"title\") if authors and authors[0] else \"Unknown\"\n",
    "\n",
    "                    comments = []\n",
    "                    author_replies = []\n",
    "                    comment_authors = []\n",
    "\n",
    "                    for i in range(1, len(posts)):\n",
    "                        comment_text = format_text(posts[i].text)\n",
    "                        comment_author = (\n",
    "                            authors[i].get(\"title\") if i < len(authors) and authors[i] else \"Unknown\"\n",
    "                        )\n",
    "\n",
    "                        if comment_author == post_author:\n",
    "                            author_replies.append(comment_text)\n",
    "                        else:\n",
    "                            comments.append(f\"{comment_author}: {comment_text}\")\n",
    "                            comment_authors.append(comment_author or \"Unknown\")\n",
    "\n",
    "                    if len(comments) < 2:\n",
    "                        continue  # Must have >1 real (non-author) comments\n",
    "\n",
    "                    all_data.append({\n",
    "                        \"forum_name\": forum_name,\n",
    "                        \"thread_id\": thread_id,\n",
    "                        \"thread_title\": thread_title,\n",
    "                        \"post_content\": post_content,\n",
    "                        \"author\": post_author,\n",
    "                        \"post_timestamp\": post_datetime.strftime(\"%d-%m-%Y %I:%M %p\"),\n",
    "                        \"no_of_comments\": len(comments),\n",
    "                        \"comments_content\": \" ||| \".join(comments),\n",
    "                        \"authors_comment\": \" ||| \".join(author_replies),\n",
    "                        \"comment_authors\": \" ||| \".join(comment_authors)\n",
    "                    })\n",
    "\n",
    "                except Exception as e:\n",
    "                    print(f\" Error in thread {thread_url}:\\n{e}\")\n",
    "                    continue\n",
    "\n",
    "        except Exception as e:\n",
    "            print(f\"Failed to load forum page {forum_page}:\\n{e}\")\n",
    "            continue\n",
    "\n",
    "    return all_data"
   ]
  },
  {
   "cell_type": "code",
   "execution_count": null,
   "id": "7f1ac569",
   "metadata": {},
   "outputs": [],
   "source": [
    "# Forum \n",
    "forums = {\n",
    "    \"depression\": {\"path\": \"depression\", \"slug\": \"c1-sc2-b2\"},\n",
    "    ##\"ptsd-trauma\": {\"path\": \"ptsd-and-trauma\", \"slug\": \"c1-sc2-b3\"},\n",
    "    ##\"suicidal-thoughts-and-self-harm\": {\"path\": \"suicidal-thoughts-and-self-harm\", \"slug\": \"c1-sc2-b4\"},\n",
    "    ##\"anxiety\": {\"path\": \"anxiety\", \"slug\": \"c1-sc2-b1\"}\n",
    "}\n"
   ]
  },
  {
   "cell_type": "code",
   "execution_count": 6,
   "id": "00219939",
   "metadata": {},
   "outputs": [
    {
     "name": "stderr",
     "output_type": "stream",
     "text": [
      "Threads in depression: 100%|██████████| 13/13 [00:58<00:00,  4.53s/it]\n"
     ]
    },
    {
     "name": "stdout",
     "output_type": "stream",
     "text": [
      "Reading forum page: https://forums.beyondblue.org.au/t5/depression/bd-p/c1-sc2-b2/page/640\n"
     ]
    },
    {
     "name": "stderr",
     "output_type": "stream",
     "text": [
      "Threads in depression: 100%|██████████| 13/13 [00:55<00:00,  4.26s/it]\n"
     ]
    },
    {
     "name": "stdout",
     "output_type": "stream",
     "text": [
      "Reading forum page: https://forums.beyondblue.org.au/t5/depression/bd-p/c1-sc2-b2/page/641\n"
     ]
    },
    {
     "name": "stderr",
     "output_type": "stream",
     "text": [
      "Threads in depression: 100%|██████████| 13/13 [00:56<00:00,  4.34s/it]\n"
     ]
    },
    {
     "name": "stdout",
     "output_type": "stream",
     "text": [
      "Reading forum page: https://forums.beyondblue.org.au/t5/depression/bd-p/c1-sc2-b2/page/642\n"
     ]
    },
    {
     "name": "stderr",
     "output_type": "stream",
     "text": [
      "Threads in depression: 100%|██████████| 13/13 [00:59<00:00,  4.59s/it]\n"
     ]
    },
    {
     "name": "stdout",
     "output_type": "stream",
     "text": [
      "Reading forum page: https://forums.beyondblue.org.au/t5/depression/bd-p/c1-sc2-b2/page/643\n"
     ]
    },
    {
     "name": "stderr",
     "output_type": "stream",
     "text": [
      "Threads in depression: 100%|██████████| 13/13 [01:00<00:00,  4.63s/it]\n"
     ]
    },
    {
     "name": "stdout",
     "output_type": "stream",
     "text": [
      "Reading forum page: https://forums.beyondblue.org.au/t5/depression/bd-p/c1-sc2-b2/page/644\n"
     ]
    },
    {
     "name": "stderr",
     "output_type": "stream",
     "text": [
      "Threads in depression: 100%|██████████| 13/13 [00:57<00:00,  4.43s/it]\n"
     ]
    },
    {
     "name": "stdout",
     "output_type": "stream",
     "text": [
      "Reading forum page: https://forums.beyondblue.org.au/t5/depression/bd-p/c1-sc2-b2/page/645\n"
     ]
    },
    {
     "name": "stderr",
     "output_type": "stream",
     "text": [
      "Threads in depression: 100%|██████████| 13/13 [00:55<00:00,  4.30s/it]\n"
     ]
    },
    {
     "name": "stdout",
     "output_type": "stream",
     "text": [
      "Reading forum page: https://forums.beyondblue.org.au/t5/depression/bd-p/c1-sc2-b2/page/646\n"
     ]
    },
    {
     "name": "stderr",
     "output_type": "stream",
     "text": [
      "Threads in depression: 100%|██████████| 13/13 [01:02<00:00,  4.79s/it]\n"
     ]
    },
    {
     "name": "stdout",
     "output_type": "stream",
     "text": [
      "Reading forum page: https://forums.beyondblue.org.au/t5/depression/bd-p/c1-sc2-b2/page/647\n"
     ]
    },
    {
     "name": "stderr",
     "output_type": "stream",
     "text": [
      "Threads in depression: 100%|██████████| 13/13 [01:00<00:00,  4.68s/it]\n"
     ]
    },
    {
     "name": "stdout",
     "output_type": "stream",
     "text": [
      "Reading forum page: https://forums.beyondblue.org.au/t5/depression/bd-p/c1-sc2-b2/page/648\n"
     ]
    },
    {
     "name": "stderr",
     "output_type": "stream",
     "text": [
      "Threads in depression: 100%|██████████| 13/13 [01:00<00:00,  4.63s/it]\n"
     ]
    },
    {
     "name": "stdout",
     "output_type": "stream",
     "text": [
      "Reading forum page: https://forums.beyondblue.org.au/t5/depression/bd-p/c1-sc2-b2/page/649\n"
     ]
    },
    {
     "name": "stderr",
     "output_type": "stream",
     "text": [
      "Threads in depression: 100%|██████████| 13/13 [00:56<00:00,  4.36s/it]\n"
     ]
    },
    {
     "name": "stdout",
     "output_type": "stream",
     "text": [
      "Reading forum page: https://forums.beyondblue.org.au/t5/depression/bd-p/c1-sc2-b2/page/650\n"
     ]
    },
    {
     "name": "stderr",
     "output_type": "stream",
     "text": [
      "Threads in depression: 100%|██████████| 13/13 [00:59<00:00,  4.58s/it]\n"
     ]
    },
    {
     "name": "stdout",
     "output_type": "stream",
     "text": [
      "Reading forum page: https://forums.beyondblue.org.au/t5/depression/bd-p/c1-sc2-b2/page/651\n"
     ]
    },
    {
     "name": "stderr",
     "output_type": "stream",
     "text": [
      "Threads in depression: 100%|██████████| 13/13 [01:03<00:00,  4.88s/it]\n"
     ]
    },
    {
     "name": "stdout",
     "output_type": "stream",
     "text": [
      "Reading forum page: https://forums.beyondblue.org.au/t5/depression/bd-p/c1-sc2-b2/page/652\n"
     ]
    },
    {
     "name": "stderr",
     "output_type": "stream",
     "text": [
      "Threads in depression: 100%|██████████| 13/13 [00:59<00:00,  4.57s/it]\n"
     ]
    },
    {
     "name": "stdout",
     "output_type": "stream",
     "text": [
      "Reading forum page: https://forums.beyondblue.org.au/t5/depression/bd-p/c1-sc2-b2/page/653\n"
     ]
    },
    {
     "name": "stderr",
     "output_type": "stream",
     "text": [
      "Threads in depression: 100%|██████████| 13/13 [00:55<00:00,  4.29s/it]\n"
     ]
    },
    {
     "name": "stdout",
     "output_type": "stream",
     "text": [
      "Reading forum page: https://forums.beyondblue.org.au/t5/depression/bd-p/c1-sc2-b2/page/654\n"
     ]
    },
    {
     "name": "stderr",
     "output_type": "stream",
     "text": [
      "Threads in depression: 100%|██████████| 13/13 [01:00<00:00,  4.62s/it]\n"
     ]
    },
    {
     "name": "stdout",
     "output_type": "stream",
     "text": [
      "Reading forum page: https://forums.beyondblue.org.au/t5/depression/bd-p/c1-sc2-b2/page/655\n"
     ]
    },
    {
     "name": "stderr",
     "output_type": "stream",
     "text": [
      "Threads in depression: 100%|██████████| 13/13 [01:00<00:00,  4.62s/it]\n"
     ]
    },
    {
     "name": "stdout",
     "output_type": "stream",
     "text": [
      "Reading forum page: https://forums.beyondblue.org.au/t5/depression/bd-p/c1-sc2-b2/page/656\n"
     ]
    },
    {
     "name": "stderr",
     "output_type": "stream",
     "text": [
      "Threads in depression: 100%|██████████| 13/13 [00:59<00:00,  4.57s/it]\n"
     ]
    },
    {
     "name": "stdout",
     "output_type": "stream",
     "text": [
      "Reading forum page: https://forums.beyondblue.org.au/t5/depression/bd-p/c1-sc2-b2/page/657\n"
     ]
    },
    {
     "name": "stderr",
     "output_type": "stream",
     "text": [
      "Threads in depression: 100%|██████████| 13/13 [00:56<00:00,  4.33s/it]\n"
     ]
    },
    {
     "name": "stdout",
     "output_type": "stream",
     "text": [
      "Reading forum page: https://forums.beyondblue.org.au/t5/depression/bd-p/c1-sc2-b2/page/658\n"
     ]
    },
    {
     "name": "stderr",
     "output_type": "stream",
     "text": [
      "Threads in depression: 100%|██████████| 13/13 [00:59<00:00,  4.59s/it]\n"
     ]
    },
    {
     "name": "stdout",
     "output_type": "stream",
     "text": [
      "Reading forum page: https://forums.beyondblue.org.au/t5/depression/bd-p/c1-sc2-b2/page/659\n"
     ]
    },
    {
     "name": "stderr",
     "output_type": "stream",
     "text": [
      "Threads in depression: 100%|██████████| 13/13 [01:00<00:00,  4.64s/it]\n"
     ]
    },
    {
     "name": "stdout",
     "output_type": "stream",
     "text": [
      "Reading forum page: https://forums.beyondblue.org.au/t5/depression/bd-p/c1-sc2-b2/page/660\n"
     ]
    },
    {
     "name": "stderr",
     "output_type": "stream",
     "text": [
      "Threads in depression: 100%|██████████| 13/13 [00:55<00:00,  4.28s/it]\n"
     ]
    },
    {
     "name": "stdout",
     "output_type": "stream",
     "text": [
      "Reading forum page: https://forums.beyondblue.org.au/t5/depression/bd-p/c1-sc2-b2/page/661\n"
     ]
    },
    {
     "name": "stderr",
     "output_type": "stream",
     "text": [
      "Threads in depression: 100%|██████████| 13/13 [00:55<00:00,  4.25s/it]\n"
     ]
    },
    {
     "name": "stdout",
     "output_type": "stream",
     "text": [
      "Reading forum page: https://forums.beyondblue.org.au/t5/depression/bd-p/c1-sc2-b2/page/662\n"
     ]
    },
    {
     "name": "stderr",
     "output_type": "stream",
     "text": [
      "Threads in depression: 100%|██████████| 13/13 [00:59<00:00,  4.58s/it]\n"
     ]
    },
    {
     "name": "stdout",
     "output_type": "stream",
     "text": [
      "Reading forum page: https://forums.beyondblue.org.au/t5/depression/bd-p/c1-sc2-b2/page/663\n"
     ]
    },
    {
     "name": "stderr",
     "output_type": "stream",
     "text": [
      "Threads in depression: 100%|██████████| 11/11 [00:47<00:00,  4.32s/it]\n"
     ]
    },
    {
     "name": "stdout",
     "output_type": "stream",
     "text": [
      "Reading forum page: https://forums.beyondblue.org.au/t5/depression/bd-p/c1-sc2-b2/page/664\n"
     ]
    },
    {
     "name": "stderr",
     "output_type": "stream",
     "text": [
      "Threads in depression: 100%|██████████| 11/11 [00:51<00:00,  4.66s/it]\n"
     ]
    },
    {
     "name": "stdout",
     "output_type": "stream",
     "text": [
      "\n",
      "Scraping complete. Saved 5198 threads with >2 comments (excluding author replies in main comment list).\n"
     ]
    }
   ],
   "source": [
    "final_rows = []\n",
    "START_PAGE = 1\n",
    "END_PAGE = 664\n",
    "\n",
    "for forum_name, info in forums.items():\n",
    "    print(f\"\\nScraping forum: {forum_name} (Pages {START_PAGE}–{END_PAGE})\")\n",
    "    forum_data = scrape_forum(info[\"path\"], info[\"slug\"], forum_name, start_page=START_PAGE, end_page=END_PAGE)\n",
    "    final_rows.extend(forum_data)\n",
    "\n",
    "df = pd.DataFrame(final_rows)\n",
    "df.to_csv(\"depression_2015_25.csv\", index=False)\n",
    "print(f\"\\nScraping complete. Saved {len(df)} threads with >2 comments (excluding author replies in main comment list).\")"
   ]
  },
  {
   "cell_type": "code",
   "execution_count": 7,
   "id": "64c9d91f",
   "metadata": {},
   "outputs": [
    {
     "name": "stdout",
     "output_type": "stream",
     "text": [
      "5198\n"
     ]
    }
   ],
   "source": [
    "print(len(df))"
   ]
  }
 ],
 "metadata": {
  "kernelspec": {
   "display_name": "base",
   "language": "python",
   "name": "python3"
  },
  "language_info": {
   "codemirror_mode": {
    "name": "ipython",
    "version": 3
   },
   "file_extension": ".py",
   "mimetype": "text/x-python",
   "name": "python",
   "nbconvert_exporter": "python",
   "pygments_lexer": "ipython3",
   "version": "3.12.9"
  }
 },
 "nbformat": 4,
 "nbformat_minor": 5
}
